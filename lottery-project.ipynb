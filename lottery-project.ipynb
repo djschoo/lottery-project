{
 "cells": [
  {
   "cell_type": "markdown",
   "metadata": {},
   "source": [
    "# Introduction"
   ]
  },
  {
   "cell_type": "markdown",
   "metadata": {},
   "source": [
    "As is well known in social science literature, most people who play the lottery do so for fun and without major problems; however, for some this activity turns into a habit which eventually escalates into addiction. A medical institute that aims to prevent and treat gambling addictions wants to build a dedicated mobile app to help lottery addicts better estimate their chances of winning.\n",
    "\n",
    "The purpose of this project is to assist in the development of this app by answering questions such as:\n",
    "\n",
    "- What is the probability of winning the big prize with a single ticket?\n",
    "- What is the probability of winning the big prize if we play 40 different tickets (or any other number)?\n",
    "- What is the probability of having at least five (or four, or three, or two) winning numbers on a single ticket?\n",
    "\n",
    "The data set is historical data from the national 6/49 lottery game in Canada. The data set has data for 3,665 drawings, dating from 1982 to 2018.\n"
   ]
  },
  {
   "cell_type": "markdown",
   "metadata": {},
   "source": [
    "# Core Functions"
   ]
  },
  {
   "cell_type": "code",
   "execution_count": 6,
   "metadata": {},
   "outputs": [],
   "source": [
    "# write two important functions that we'll use later\n",
    "\n",
    "def factorial(n):\n",
    "    if n == 1: return 1\n",
    "    return n * factorial(n-1)\n",
    "\n",
    "def number_of_combinations(n, k):\n",
    "    numerator = factorial(n)\n",
    "    denominator = factorial(k) * factorial(n-k)\n",
    "    return numerator/denominator"
   ]
  },
  {
   "cell_type": "markdown",
   "metadata": {},
   "source": [
    "# Probability of winning with one ticket"
   ]
  },
  {
   "cell_type": "markdown",
   "metadata": {},
   "source": [
    "For each drawing, six numbers are drawn from a set of 49, and a player wins the big prize if the six numbers on their tickets match all six numbers. The function below calculates the probability of winning the big prize for any given ticket and writes a snappy message. "
   ]
  },
  {
   "cell_type": "code",
   "execution_count": 36,
   "metadata": {},
   "outputs": [],
   "source": [
    "def one_ticket_probability(ticket):\n",
    "    num_combinations = number_of_combinations(49,len(ticket))\n",
    "    probability = 1 / num_combinations * 100\n",
    "    message = '''Your chances to win the big prize with the numbers {} are {:.7f}%.\\nIn other words, you have a 1 in {:,} chance to win.\\n'''.format(ticket,\n",
    "                    probability, int(num_combinations))\n",
    "    print(message)"
   ]
  },
  {
   "cell_type": "code",
   "execution_count": 37,
   "metadata": {},
   "outputs": [
    {
     "name": "stdout",
     "output_type": "stream",
     "text": [
      "Your chances to win the big prize with the numbers [2, 5, 7, 9, 6, 8] are 0.0000072%.\n",
      "In other words, you have a 1 in 13,983,816 chance to win.\n",
      "\n",
      "Your chances to win the big prize with the numbers [2, 5, 4, 9, 6, 32] are 0.0000072%.\n",
      "In other words, you have a 1 in 13,983,816 chance to win.\n",
      "\n"
     ]
    }
   ],
   "source": [
    "# test two tickets -- of course, they should report out the same probability!\n",
    "\n",
    "one_ticket_probability([2,5,7,9,6,8])\n",
    "one_ticket_probability([2,5,4,9,6,32])"
   ]
  },
  {
   "cell_type": "markdown",
   "metadata": {},
   "source": [
    "# Analysis of Historical Data"
   ]
  },
  {
   "cell_type": "markdown",
   "metadata": {},
   "source": [
    "The engineering team tells us that we need to write a function that can help users determine whether they would have ever won by now using a certain combination of six numbers."
   ]
  },
  {
   "cell_type": "code",
   "execution_count": 38,
   "metadata": {},
   "outputs": [],
   "source": [
    "import pandas as pd\n",
    "\n",
    "lotto = pd.read_csv(\"649.csv\")"
   ]
  },
  {
   "cell_type": "code",
   "execution_count": 39,
   "metadata": {},
   "outputs": [
    {
     "data": {
      "text/plain": [
       "(3665, 11)"
      ]
     },
     "execution_count": 39,
     "metadata": {},
     "output_type": "execute_result"
    }
   ],
   "source": [
    "lotto.shape"
   ]
  },
  {
   "cell_type": "code",
   "execution_count": 40,
   "metadata": {},
   "outputs": [
    {
     "data": {
      "text/html": [
       "<div>\n",
       "<style scoped>\n",
       "    .dataframe tbody tr th:only-of-type {\n",
       "        vertical-align: middle;\n",
       "    }\n",
       "\n",
       "    .dataframe tbody tr th {\n",
       "        vertical-align: top;\n",
       "    }\n",
       "\n",
       "    .dataframe thead th {\n",
       "        text-align: right;\n",
       "    }\n",
       "</style>\n",
       "<table border=\"1\" class=\"dataframe\">\n",
       "  <thead>\n",
       "    <tr style=\"text-align: right;\">\n",
       "      <th></th>\n",
       "      <th>PRODUCT</th>\n",
       "      <th>DRAW NUMBER</th>\n",
       "      <th>SEQUENCE NUMBER</th>\n",
       "      <th>DRAW DATE</th>\n",
       "      <th>NUMBER DRAWN 1</th>\n",
       "      <th>NUMBER DRAWN 2</th>\n",
       "      <th>NUMBER DRAWN 3</th>\n",
       "      <th>NUMBER DRAWN 4</th>\n",
       "      <th>NUMBER DRAWN 5</th>\n",
       "      <th>NUMBER DRAWN 6</th>\n",
       "      <th>BONUS NUMBER</th>\n",
       "    </tr>\n",
       "  </thead>\n",
       "  <tbody>\n",
       "    <tr>\n",
       "      <th>0</th>\n",
       "      <td>649</td>\n",
       "      <td>1</td>\n",
       "      <td>0</td>\n",
       "      <td>6/12/1982</td>\n",
       "      <td>3</td>\n",
       "      <td>11</td>\n",
       "      <td>12</td>\n",
       "      <td>14</td>\n",
       "      <td>41</td>\n",
       "      <td>43</td>\n",
       "      <td>13</td>\n",
       "    </tr>\n",
       "    <tr>\n",
       "      <th>1</th>\n",
       "      <td>649</td>\n",
       "      <td>2</td>\n",
       "      <td>0</td>\n",
       "      <td>6/19/1982</td>\n",
       "      <td>8</td>\n",
       "      <td>33</td>\n",
       "      <td>36</td>\n",
       "      <td>37</td>\n",
       "      <td>39</td>\n",
       "      <td>41</td>\n",
       "      <td>9</td>\n",
       "    </tr>\n",
       "    <tr>\n",
       "      <th>2</th>\n",
       "      <td>649</td>\n",
       "      <td>3</td>\n",
       "      <td>0</td>\n",
       "      <td>6/26/1982</td>\n",
       "      <td>1</td>\n",
       "      <td>6</td>\n",
       "      <td>23</td>\n",
       "      <td>24</td>\n",
       "      <td>27</td>\n",
       "      <td>39</td>\n",
       "      <td>34</td>\n",
       "    </tr>\n",
       "    <tr>\n",
       "      <th>3</th>\n",
       "      <td>649</td>\n",
       "      <td>4</td>\n",
       "      <td>0</td>\n",
       "      <td>7/3/1982</td>\n",
       "      <td>3</td>\n",
       "      <td>9</td>\n",
       "      <td>10</td>\n",
       "      <td>13</td>\n",
       "      <td>20</td>\n",
       "      <td>43</td>\n",
       "      <td>34</td>\n",
       "    </tr>\n",
       "    <tr>\n",
       "      <th>4</th>\n",
       "      <td>649</td>\n",
       "      <td>5</td>\n",
       "      <td>0</td>\n",
       "      <td>7/10/1982</td>\n",
       "      <td>5</td>\n",
       "      <td>14</td>\n",
       "      <td>21</td>\n",
       "      <td>31</td>\n",
       "      <td>34</td>\n",
       "      <td>47</td>\n",
       "      <td>45</td>\n",
       "    </tr>\n",
       "  </tbody>\n",
       "</table>\n",
       "</div>"
      ],
      "text/plain": [
       "   PRODUCT  DRAW NUMBER  SEQUENCE NUMBER  DRAW DATE  NUMBER DRAWN 1  \\\n",
       "0      649            1                0  6/12/1982               3   \n",
       "1      649            2                0  6/19/1982               8   \n",
       "2      649            3                0  6/26/1982               1   \n",
       "3      649            4                0   7/3/1982               3   \n",
       "4      649            5                0  7/10/1982               5   \n",
       "\n",
       "   NUMBER DRAWN 2  NUMBER DRAWN 3  NUMBER DRAWN 4  NUMBER DRAWN 5  \\\n",
       "0              11              12              14              41   \n",
       "1              33              36              37              39   \n",
       "2               6              23              24              27   \n",
       "3               9              10              13              20   \n",
       "4              14              21              31              34   \n",
       "\n",
       "   NUMBER DRAWN 6  BONUS NUMBER  \n",
       "0              43            13  \n",
       "1              41             9  \n",
       "2              39            34  \n",
       "3              43            34  \n",
       "4              47            45  "
      ]
     },
     "execution_count": 40,
     "metadata": {},
     "output_type": "execute_result"
    }
   ],
   "source": [
    "lotto.head()"
   ]
  },
  {
   "cell_type": "code",
   "execution_count": 50,
   "metadata": {},
   "outputs": [],
   "source": [
    "# this function extracts the winning numbers (\"Number Drawn 1, Number Drawn 2, etc.\") for a row as a set\n",
    "\n",
    "def extract_numbers(row):\n",
    "    return set(row.iloc[4:10])"
   ]
  },
  {
   "cell_type": "code",
   "execution_count": 54,
   "metadata": {},
   "outputs": [
    {
     "data": {
      "text/plain": [
       "0    {3, 41, 11, 12, 43, 14}\n",
       "1    {33, 36, 37, 39, 8, 41}\n",
       "2     {1, 6, 39, 23, 24, 27}\n",
       "3     {3, 9, 10, 43, 13, 20}\n",
       "4    {34, 5, 14, 47, 21, 31}\n",
       "dtype: object"
      ]
     },
     "execution_count": 54,
     "metadata": {},
     "output_type": "execute_result"
    }
   ],
   "source": [
    "# make a pd.Series of the winning numbers for each row in the dataset.\n",
    "\n",
    "winners = lotto.apply(extract_numbers, axis=1)\n",
    "winners.head()"
   ]
  },
  {
   "cell_type": "code",
   "execution_count": 66,
   "metadata": {},
   "outputs": [
    {
     "data": {
      "text/plain": [
       "array([1], dtype=int64)"
      ]
     },
     "execution_count": 66,
     "metadata": {},
     "output_type": "execute_result"
    }
   ],
   "source": [
    "winners.value_counts().sort_values().unique()"
   ]
  },
  {
   "cell_type": "code",
   "execution_count": 60,
   "metadata": {},
   "outputs": [],
   "source": [
    "# this function checks how many times a user's inputted ticket number won historically and outputs a snappy message.\n",
    "\n",
    "def check_historical_occurence(user_nums, historical_nums=winners):\n",
    "    user_nums = set(user_nums)\n",
    "    matches = historical_nums == user_nums\n",
    "    num_matches = matches.sum()\n",
    "    \n",
    "    if num_matches == 0:\n",
    "        print('''Ticket {} has never occured in the past!'''.format(user_nums))\n",
    "        \n",
    "    elif num_matches == 1:\n",
    "        print('''Ticket {} has occured in the past {} time!'''.format(user_nums, num_matches))\n",
    "\n",
    "    else:\n",
    "        print('''Ticket {} has occured in the past {} times!'''.format(user_nums, num_matches))\n"
   ]
  },
  {
   "cell_type": "code",
   "execution_count": 61,
   "metadata": {},
   "outputs": [
    {
     "name": "stdout",
     "output_type": "stream",
     "text": [
      "Ticket {3, 41, 11, 12, 43, 14} has occured in the past 1 time!\n",
      "Ticket {3, 41, 11, 12, 43, 15} has never occured in the past!\n"
     ]
    }
   ],
   "source": [
    "check_historical_occurence([3, 41, 11, 12, 43, 14], winners)\n",
    "check_historical_occurence([3, 41, 11, 12, 43, 15], winners)"
   ]
  },
  {
   "cell_type": "markdown",
   "metadata": {},
   "source": [
    "# Probability of winning with multiple tickets\n",
    "\n",
    "This part outputs the probability of winning if a player buys multiple different tickets."
   ]
  },
  {
   "cell_type": "code",
   "execution_count": 91,
   "metadata": {},
   "outputs": [],
   "source": [
    "# this is just equal to the number of tickets purchased divided by the total possible combinations. The function below also returns a snazzy message.\n",
    "\n",
    "def multi_ticket_probability(num_tickets):\n",
    "    combos = number_of_combinations(49,6)\n",
    "    probability_percent = num_tickets / combos * 100\n",
    "    \n",
    "    if num_tickets == 1:\n",
    "        print('''Your chances to win the big prize with one ticket are {:.6f}%.\\nIn other words, you have a 1 in {:,.0f} chance to win!'''.format(probability_percent, combos))\n",
    "        \n",
    "    else:\n",
    "        combos_simplified = round(combos / num_tickets) \n",
    "        print('''Your chances to win the big prize with {:,} tickets are {:.6f}%.\\nIn other words, you have a 1 in {:,.0f} chance to win!'''.format(num_tickets,probability_percent,combos_simplified))"
   ]
  },
  {
   "cell_type": "code",
   "execution_count": 92,
   "metadata": {},
   "outputs": [
    {
     "name": "stdout",
     "output_type": "stream",
     "text": [
      "Your chances to win the big prize with one ticket are 0.000007%.\n",
      "In other words, you have a 1 in 13,983,816 chance to win!\n",
      "--------------------------------------------------------------------\n",
      "Your chances to win the big prize with 10 tickets are 0.000072%.\n",
      "In other words, you have a 1 in 1,398,382 chance to win!\n",
      "--------------------------------------------------------------------\n",
      "Your chances to win the big prize with 100 tickets are 0.000715%.\n",
      "In other words, you have a 1 in 139,838 chance to win!\n",
      "--------------------------------------------------------------------\n",
      "Your chances to win the big prize with 10,000 tickets are 0.071511%.\n",
      "In other words, you have a 1 in 1,398 chance to win!\n",
      "--------------------------------------------------------------------\n",
      "Your chances to win the big prize with 1,000,000 tickets are 7.151124%.\n",
      "In other words, you have a 1 in 14 chance to win!\n",
      "--------------------------------------------------------------------\n",
      "Your chances to win the big prize with 6,991,908 tickets are 50.000000%.\n",
      "In other words, you have a 1 in 2 chance to win!\n",
      "--------------------------------------------------------------------\n",
      "Your chances to win the big prize with 13,983,816 tickets are 100.000000%.\n",
      "In other words, you have a 1 in 1 chance to win!\n",
      "--------------------------------------------------------------------\n"
     ]
    }
   ],
   "source": [
    "test_inputs = [1, 10, 100, 10000, 1000000, 6991908, 13983816]\n",
    "\n",
    "for test_input in test_inputs:\n",
    "    multi_ticket_probability(test_input)\n",
    "    print('--------------------------------------------------------------------')"
   ]
  },
  {
   "cell_type": "markdown",
   "metadata": {},
   "source": [
    "# Probability of matching fewer than 6 of the numbers\n",
    "\n",
    "\n",
    "This section outputs the probability of having two, three, four, or five winning numbers. The user inputs an integer between 2 and 5 that represents the number of winning numbers expected and the ticket s/he is thinking of buying (which is, of course, irrelevant for the ultimate calculation)."
   ]
  },
  {
   "cell_type": "code",
   "execution_count": 113,
   "metadata": {},
   "outputs": [],
   "source": [
    "def probability_less_6(n, ticket=[1,2,3,4,5,6]):\n",
    "    n_combinations_ticket = number_of_combinations(6, n)\n",
    "    n_combinations_remaining = number_of_combinations(49 - n, 6 - n)\n",
    "    successful_outcomes = n_combinations_ticket * n_combinations_remaining\n",
    "    n_combinations_total = number_of_combinations(49, 6)\n",
    "    \n",
    "    probability = successful_outcomes / n_combinations_total\n",
    "    probability_percentage = probability * 100\n",
    "    \n",
    "    combinations_simplified = round(n_combinations_total/successful_outcomes)\n",
    "    \n",
    "    print('''Your chances of having {} winning numbers with this ticket are {:.6f}%.\\nIn other words, you have a 1 in {:,} chance to win.'''.format(n, probability_percentage,int(combinations_simplified)))"
   ]
  },
  {
   "cell_type": "code",
   "execution_count": 114,
   "metadata": {},
   "outputs": [
    {
     "name": "stdout",
     "output_type": "stream",
     "text": [
      "Your chances of having 2 winning numbers with this ticket are 19.132653%.\n",
      "In other words, you have a 1 in 5 chance to win.\n",
      "-------------------------------------------------------------------------\n",
      "Your chances of having 3 winning numbers with this ticket are 2.171081%.\n",
      "In other words, you have a 1 in 46 chance to win.\n",
      "-------------------------------------------------------------------------\n",
      "Your chances of having 4 winning numbers with this ticket are 0.106194%.\n",
      "In other words, you have a 1 in 942 chance to win.\n",
      "-------------------------------------------------------------------------\n",
      "Your chances of having 5 winning numbers with this ticket are 0.001888%.\n",
      "In other words, you have a 1 in 52,969 chance to win.\n",
      "-------------------------------------------------------------------------\n"
     ]
    }
   ],
   "source": [
    "test_inputs = list(range(2,6))\n",
    "\n",
    "for test_input in test_inputs:\n",
    "    probability_less_6(test_input)\n",
    "    print('-------------------------------------------------------------------------')"
   ]
  }
 ],
 "metadata": {
  "kernelspec": {
   "display_name": "Python 3",
   "language": "python",
   "name": "python3"
  },
  "language_info": {
   "codemirror_mode": {
    "name": "ipython",
    "version": 3
   },
   "file_extension": ".py",
   "mimetype": "text/x-python",
   "name": "python",
   "nbconvert_exporter": "python",
   "pygments_lexer": "ipython3",
   "version": "3.7.1"
  }
 },
 "nbformat": 4,
 "nbformat_minor": 2
}
